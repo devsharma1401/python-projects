{
 "cells": [
  {
   "cell_type": "code",
   "execution_count": null,
   "id": "e84bbc66",
   "metadata": {},
   "outputs": [
    {
     "name": "stdout",
     "output_type": "stream",
     "text": [
      "Enter Bill Month/DATE : july\n",
      "Enter Consumer Name : devanshu\n",
      "Enter Consumer Address : c block 405 samridhi appartment\n",
      "Enter CURRENT READING DATE : 10/07/23\n",
      "ENTER PAST READING DATE : 10/06/23\n"
     ]
    }
   ],
   "source": [
    "mtab=(\"\\t\\t\\t\\t\\t\")\n",
    "mtab2=(\"\\t\\t\\t\\t\")\n",
    "billm=input(\"Enter Bill Month/DATE : \")\n",
    "cn=input(\"Enter Consumer Name : \")\n",
    "ca=input(\"Enter Consumer Address : \")\n",
    "crd=input(\"Enter CURRENT READING DATE : \")\n",
    "prd=input(\"ENTER PAST READING DATE : \")\n",
    "cr=eval(input(\"ENTER CURRENT READING : \"))\n",
    "pr=eval(input(\"ENTER PAST READING : \"))\n",
    "tc=cr-pr\n",
    "FS=69.12\n",
    "UC=43.35\n",
    "print(\"-------------------------------------------------------------------------------------------------------------------------------\\n\")\n",
    "print(mtab,\"Jaipur Vidyut Vitaran Nigam ltd.\\n\")\n",
    "print(mtab2,\"Rigestered Office Vidut Bhawan,Janpath Jaipur\")\n",
    "print(mtab2,\"Pan.NO.:AAABCJ6373K, GSTIN.:-08AABCJ6373K127, HSN Code.:-2716\")\n",
    "print(\"CIN NO. U40109RJ2000SGC016486 *BILL OF SUPPLY*\")\n",
    "print(\"-------------------------------------------------------------------------------------------------------------------------------\")\n",
    "print(\"BILL MONTH / DATE             :  \",billm)\n",
    "print(\"SUBDIVISION NAME              :  AEN_F-IV_PRATAP NAGAR\")\n",
    "print(\"ACCOUNT NUMBER                :  17380051\")\n",
    "print(\"CONSUMER NAME                 :  \",cn)\n",
    "print(\"CONSUMER ADDRESS              :  \",ca)\n",
    "print(\"BILL NO./MEATER CONDITION     :  10150/REGULAR\")\n",
    "print(\"TYPE/TEERIFIC CODE            :  DOMESTIC/1000T\")\n",
    "print(\"SANCTIONED LOAD               :  2.00/2.0 KW\")\n",
    "print(\"PRECIOUS/METER SAFETY AMOUNT  :  2316/0\")\n",
    "print(\"CURRENT READING DATE          :  \",crd)\n",
    "print(\"PAST READING DATE             :  \",prd)\n",
    "print(\"CURRENT READING(KWH)          :  \",cr)\n",
    "print(\"PAST READING(KWH)             :  \",pr)\n",
    "print(\"TOTAL CONSUMPTION(UNIT)       :  \",tc)\n",
    "print(\"FUEL SURCHARGE                :  69.12\")\n",
    "print(\"URBAN CESS                    :  43.35\")\n",
    "print(\"--------------------------------------------------------------------------------------------------------------------------------\\n\")\n",
    "if tc>=0 and tc<=50:\n",
    "    TotalAmount=((tc*4.75)+FS+UC)\n",
    "    print(\"TOTAL AMOUNT TILL DATE : \",\"RS.\",TotalAmount,\"\\n\",\"THANK YOU\",\"\\n\",\"GOVT. OF INDIA\")\n",
    "elif tc>50and tc<=150:\n",
    "    TotalAmount=(237.5+((tc-50)*6.50)+FS+UC)\n",
    "    print(\"TOTAL AMOUNT TILL DATE : \",\"RS.\",TotalAmount,\"\\n\",\"THANK YOU\",\"\\n\",\"GOVT. OF INDIA\")\n",
    "elif tc>150 and tc<=300:\n",
    "    TotalAmount=(237.5+650+((tc-150)*7.35)+FS+UC)\n",
    "    print(\"Total AMOUNT TILL DATE : \",\"RS.\",TotalAmount,\"\\n\",\"THANK YOU\",\"\\n\",\"GOVT. OF INDIA\")\n",
    "elif tc>300 and tc<=500:\n",
    "    TotalAmount=(237.5+650+1102.5+((tc-300)*7.65)+FS+UC)\n",
    "    print(\"TOTAL AMOUNT TILL DATE : \",\"RS.\",TotalAmount,\"\\n\",\"THANK YOU\",\"\\n\",\"GOVT. OF INDIA\")\n",
    "elif tc>500:\n",
    "    TotalAmount=(237.5+650+1102.5+1530+((tc-500)*7.95)+FS+UC)\n",
    "    print(\"TOTAL AMOUNT TILL DATE : \",\"RS.\",TotalAmount,\"\\n\",\"THANK YOU\",\"\\n\",\"GOVT. OF INDIA\")\n",
    "else:\n",
    "    print(\"METER IS NOT WORKING DUE TO :XYZ \",\"CONTACT TO ELECTRICITY BOARD \",\"TotalAmount - 00(penelty including to next bill)\",\"\\n\",\"THANK YOU\",\"\\n\",\"GOVT.OF INDIA\")\n",
    "    \n",
    "\n"
   ]
  },
  {
   "cell_type": "code",
   "execution_count": null,
   "id": "1815fb9a",
   "metadata": {},
   "outputs": [],
   "source": []
  }
 ],
 "metadata": {
  "kernelspec": {
   "display_name": "Python 3 (ipykernel)",
   "language": "python",
   "name": "python3"
  }
 },
 "nbformat": 4,
 "nbformat_minor": 5
}
